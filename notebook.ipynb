{
 "cells": [
  {
   "cell_type": "markdown",
   "metadata": {},
   "source": [
    "El servicio de venta de autos usados Rusty Bargain está desarrollando una aplicación para atraer nuevos clientes. Gracias a esa app, puedes averiguar rápidamente el valor de mercado de tu coche. Tienes acceso al historial: especificaciones técnicas, versiones de equipamiento y precios. Tienes que crear un modelo que determine el valor de mercado.\n",
    "A Rusty Bargain le interesa:\n",
    "- la calidad de la predicción;\n",
    "- la velocidad de la predicción;\n",
    "- el tiempo requerido para el entrenamiento"
   ]
  },
  {
   "cell_type": "markdown",
   "metadata": {},
   "source": [
    "## Preparación de datos"
   ]
  },
  {
   "cell_type": "code",
   "execution_count": 1,
   "metadata": {
    "trusted": true
   },
   "outputs": [],
   "source": [
    "import pandas as pd\n",
    "import numpy as np\n",
    "from sklearn.model_selection import train_test_split, GridSearchCV\n",
    "from sklearn.metrics import make_scorer\n",
    "from sklearn.linear_model import LinearRegression\n",
    "from sklearn.ensemble import RandomForestRegressor\n",
    "import lightgbm as lgb\n",
    "import xgboost as xgb \n",
    "import time\n",
    "import gc"
   ]
  },
  {
   "cell_type": "code",
   "execution_count": 2,
   "metadata": {
    "trusted": true
   },
   "outputs": [
    {
     "name": "stdout",
     "output_type": "stream",
     "text": [
      "<class 'pandas.core.frame.DataFrame'>\n",
      "RangeIndex: 354369 entries, 0 to 354368\n",
      "Data columns (total 16 columns):\n",
      " #   Column             Non-Null Count   Dtype \n",
      "---  ------             --------------   ----- \n",
      " 0   DateCrawled        354369 non-null  object\n",
      " 1   Price              354369 non-null  int64 \n",
      " 2   VehicleType        316879 non-null  object\n",
      " 3   RegistrationYear   354369 non-null  int64 \n",
      " 4   Gearbox            334536 non-null  object\n",
      " 5   Power              354369 non-null  int64 \n",
      " 6   Model              334664 non-null  object\n",
      " 7   Mileage            354369 non-null  int64 \n",
      " 8   RegistrationMonth  354369 non-null  int64 \n",
      " 9   FuelType           321474 non-null  object\n",
      " 10  Brand              354369 non-null  object\n",
      " 11  NotRepaired        283215 non-null  object\n",
      " 12  DateCreated        354369 non-null  object\n",
      " 13  NumberOfPictures   354369 non-null  int64 \n",
      " 14  PostalCode         354369 non-null  int64 \n",
      " 15  LastSeen           354369 non-null  object\n",
      "dtypes: int64(7), object(9)\n",
      "memory usage: 43.3+ MB\n",
      "        DateCrawled  Price  VehicleType  RegistrationYear Gearbox  Power  \\\n",
      "0  24/03/2016 11:52    480          NaN              1993  manual      0   \n",
      "1  24/03/2016 10:58  18300        coupe              2011  manual    190   \n",
      "2  14/03/2016 12:52   9800          suv              2004    auto    163   \n",
      "3  17/03/2016 16:54   1500        small              2001  manual     75   \n",
      "4  31/03/2016 17:25   3600        small              2008  manual     69   \n",
      "5  04/04/2016 17:36    650        sedan              1995  manual    102   \n",
      "6  01/04/2016 20:48   2200  convertible              2004  manual    109   \n",
      "7  21/03/2016 18:54      0        sedan              1980  manual     50   \n",
      "8  04/04/2016 23:42  14500          bus              2014  manual    125   \n",
      "9  17/03/2016 10:53    999        small              1998  manual    101   \n",
      "\n",
      "     Model  Mileage  RegistrationMonth  FuelType       Brand NotRepaired  \\\n",
      "0     golf   150000                  0    petrol  volkswagen         NaN   \n",
      "1      NaN   125000                  5  gasoline        audi         yes   \n",
      "2    grand   125000                  8  gasoline        jeep         NaN   \n",
      "3     golf   150000                  6    petrol  volkswagen          no   \n",
      "4    fabia    90000                  7  gasoline       skoda          no   \n",
      "5      3er   150000                 10    petrol         bmw         yes   \n",
      "6  2_reihe   150000                  8    petrol     peugeot          no   \n",
      "7    other    40000                  7    petrol  volkswagen          no   \n",
      "8    c_max    30000                  8    petrol        ford         NaN   \n",
      "9     golf   150000                  0       NaN  volkswagen         NaN   \n",
      "\n",
      "        DateCreated  NumberOfPictures  PostalCode          LastSeen  \n",
      "0  24/03/2016 00:00                 0       70435  07/04/2016 03:16  \n",
      "1  24/03/2016 00:00                 0       66954  07/04/2016 01:46  \n",
      "2  14/03/2016 00:00                 0       90480  05/04/2016 12:47  \n",
      "3  17/03/2016 00:00                 0       91074  17/03/2016 17:40  \n",
      "4  31/03/2016 00:00                 0       60437  06/04/2016 10:17  \n",
      "5  04/04/2016 00:00                 0       33775  06/04/2016 19:17  \n",
      "6  01/04/2016 00:00                 0       67112  05/04/2016 18:18  \n",
      "7  21/03/2016 00:00                 0       19348  25/03/2016 16:47  \n",
      "8  04/04/2016 00:00                 0       94505  04/04/2016 23:42  \n",
      "9  17/03/2016 00:00                 0       27472  31/03/2016 17:17  \n",
      "CPU times: user 482 ms, sys: 80 ms, total: 562 ms\n",
      "Wall time: 582 ms\n"
     ]
    },
    {
     "data": {
      "text/html": [
       "<div>\n",
       "<style scoped>\n",
       "    .dataframe tbody tr th:only-of-type {\n",
       "        vertical-align: middle;\n",
       "    }\n",
       "\n",
       "    .dataframe tbody tr th {\n",
       "        vertical-align: top;\n",
       "    }\n",
       "\n",
       "    .dataframe thead th {\n",
       "        text-align: right;\n",
       "    }\n",
       "</style>\n",
       "<table border=\"1\" class=\"dataframe\">\n",
       "  <thead>\n",
       "    <tr style=\"text-align: right;\">\n",
       "      <th></th>\n",
       "      <th>Price</th>\n",
       "      <th>RegistrationYear</th>\n",
       "      <th>Power</th>\n",
       "      <th>Mileage</th>\n",
       "      <th>RegistrationMonth</th>\n",
       "      <th>NumberOfPictures</th>\n",
       "      <th>PostalCode</th>\n",
       "    </tr>\n",
       "  </thead>\n",
       "  <tbody>\n",
       "    <tr>\n",
       "      <th>count</th>\n",
       "      <td>354369.000000</td>\n",
       "      <td>354369.000000</td>\n",
       "      <td>354369.000000</td>\n",
       "      <td>354369.000000</td>\n",
       "      <td>354369.000000</td>\n",
       "      <td>354369.0</td>\n",
       "      <td>354369.000000</td>\n",
       "    </tr>\n",
       "    <tr>\n",
       "      <th>mean</th>\n",
       "      <td>4416.656776</td>\n",
       "      <td>2004.234448</td>\n",
       "      <td>110.094337</td>\n",
       "      <td>128211.172535</td>\n",
       "      <td>5.714645</td>\n",
       "      <td>0.0</td>\n",
       "      <td>50508.689087</td>\n",
       "    </tr>\n",
       "    <tr>\n",
       "      <th>std</th>\n",
       "      <td>4514.158514</td>\n",
       "      <td>90.227958</td>\n",
       "      <td>189.850405</td>\n",
       "      <td>37905.341530</td>\n",
       "      <td>3.726421</td>\n",
       "      <td>0.0</td>\n",
       "      <td>25783.096248</td>\n",
       "    </tr>\n",
       "    <tr>\n",
       "      <th>min</th>\n",
       "      <td>0.000000</td>\n",
       "      <td>1000.000000</td>\n",
       "      <td>0.000000</td>\n",
       "      <td>5000.000000</td>\n",
       "      <td>0.000000</td>\n",
       "      <td>0.0</td>\n",
       "      <td>1067.000000</td>\n",
       "    </tr>\n",
       "    <tr>\n",
       "      <th>25%</th>\n",
       "      <td>1050.000000</td>\n",
       "      <td>1999.000000</td>\n",
       "      <td>69.000000</td>\n",
       "      <td>125000.000000</td>\n",
       "      <td>3.000000</td>\n",
       "      <td>0.0</td>\n",
       "      <td>30165.000000</td>\n",
       "    </tr>\n",
       "    <tr>\n",
       "      <th>50%</th>\n",
       "      <td>2700.000000</td>\n",
       "      <td>2003.000000</td>\n",
       "      <td>105.000000</td>\n",
       "      <td>150000.000000</td>\n",
       "      <td>6.000000</td>\n",
       "      <td>0.0</td>\n",
       "      <td>49413.000000</td>\n",
       "    </tr>\n",
       "    <tr>\n",
       "      <th>75%</th>\n",
       "      <td>6400.000000</td>\n",
       "      <td>2008.000000</td>\n",
       "      <td>143.000000</td>\n",
       "      <td>150000.000000</td>\n",
       "      <td>9.000000</td>\n",
       "      <td>0.0</td>\n",
       "      <td>71083.000000</td>\n",
       "    </tr>\n",
       "    <tr>\n",
       "      <th>max</th>\n",
       "      <td>20000.000000</td>\n",
       "      <td>9999.000000</td>\n",
       "      <td>20000.000000</td>\n",
       "      <td>150000.000000</td>\n",
       "      <td>12.000000</td>\n",
       "      <td>0.0</td>\n",
       "      <td>99998.000000</td>\n",
       "    </tr>\n",
       "  </tbody>\n",
       "</table>\n",
       "</div>"
      ],
      "text/plain": [
       "               Price  RegistrationYear          Power        Mileage  \\\n",
       "count  354369.000000     354369.000000  354369.000000  354369.000000   \n",
       "mean     4416.656776       2004.234448     110.094337  128211.172535   \n",
       "std      4514.158514         90.227958     189.850405   37905.341530   \n",
       "min         0.000000       1000.000000       0.000000    5000.000000   \n",
       "25%      1050.000000       1999.000000      69.000000  125000.000000   \n",
       "50%      2700.000000       2003.000000     105.000000  150000.000000   \n",
       "75%      6400.000000       2008.000000     143.000000  150000.000000   \n",
       "max     20000.000000       9999.000000   20000.000000  150000.000000   \n",
       "\n",
       "       RegistrationMonth  NumberOfPictures     PostalCode  \n",
       "count      354369.000000          354369.0  354369.000000  \n",
       "mean            5.714645               0.0   50508.689087  \n",
       "std             3.726421               0.0   25783.096248  \n",
       "min             0.000000               0.0    1067.000000  \n",
       "25%             3.000000               0.0   30165.000000  \n",
       "50%             6.000000               0.0   49413.000000  \n",
       "75%             9.000000               0.0   71083.000000  \n",
       "max            12.000000               0.0   99998.000000  "
      ]
     },
     "execution_count": 2,
     "metadata": {},
     "output_type": "execute_result"
    }
   ],
   "source": [
    "%%time\n",
    "df = pd.read_csv('/datasets/car_data.csv')\n",
    "df.info()\n",
    "print(df.head(10))\n",
    "df.describe()"
   ]
  },
  {
   "cell_type": "code",
   "execution_count": 3,
   "metadata": {
    "trusted": true
   },
   "outputs": [],
   "source": [
    "\n",
    "def preprocess_data(df):\n",
    "\n",
    "    # Convertir columnas de fecha a tipo datetime. \n",
    "    date_cols = [\"DateCrawled\", \"DateCreated\", \"LastSeen\"]\n",
    "    for col in date_cols:\n",
    "        df[col] = pd.to_datetime(df[col], format=\"%d/%m/%Y %H:%M\", errors=\"coerce\")\n",
    "    \n",
    "    # Filtrar registros con valores de precios mayores a 0\n",
    "    df = df[df[\"Price\"] > 0]\n",
    "\n",
    "    # Eliminar outliers extremos en el precio.\n",
    "    lower_price = df[\"Price\"].quantile(0.01)\n",
    "    upper_price = df[\"Price\"].quantile(0.99)\n",
    "    df = df[(df[\"Price\"] >= lower_price) & (df[\"Price\"] <= upper_price)]\n",
    "    \n",
    "    # Rellenar valores nulos en columnas categóricas.\n",
    "    cat_cols = [\"VehicleType\", \"Gearbox\", \"FuelType\", \"Model\", \"NotRepaired\", \"Brand\"]\n",
    "    for col in cat_cols:\n",
    "        df[col].fillna(\"missing\", inplace=True)\n",
    "    \n",
    "    # Eliminar columnas de fecha, ya extraídas las características de interes.\n",
    "    df.drop(columns=date_cols, inplace=True)\n",
    "    \n",
    "    # Convertir variables categóricas usando one-hot encoding.\n",
    "    df = pd.get_dummies(df, columns=cat_cols, drop_first=True)\n",
    "    \n",
    "    # Eliminar PostalCode y NumberOfPictures\n",
    "    df.drop(columns=[\"PostalCode\", \"NumberOfPictures\"], inplace=True)\n",
    "    \n",
    "    return df"
   ]
  },
  {
   "cell_type": "code",
   "execution_count": 4,
   "metadata": {
    "scrolled": true,
    "trusted": true
   },
   "outputs": [
    {
     "name": "stdout",
     "output_type": "stream",
     "text": [
      "<class 'pandas.core.frame.DataFrame'>\n",
      "Int64Index: 337629 entries, 0 to 354368\n",
      "Columns: 313 entries, Price to Brand_volvo\n",
      "dtypes: int64(5), uint8(308)\n",
      "memory usage: 114.6 MB\n"
     ]
    },
    {
     "data": {
      "text/html": [
       "<div>\n",
       "<style scoped>\n",
       "    .dataframe tbody tr th:only-of-type {\n",
       "        vertical-align: middle;\n",
       "    }\n",
       "\n",
       "    .dataframe tbody tr th {\n",
       "        vertical-align: top;\n",
       "    }\n",
       "\n",
       "    .dataframe thead th {\n",
       "        text-align: right;\n",
       "    }\n",
       "</style>\n",
       "<table border=\"1\" class=\"dataframe\">\n",
       "  <thead>\n",
       "    <tr style=\"text-align: right;\">\n",
       "      <th></th>\n",
       "      <th>Price</th>\n",
       "      <th>RegistrationYear</th>\n",
       "      <th>Power</th>\n",
       "      <th>Mileage</th>\n",
       "      <th>RegistrationMonth</th>\n",
       "      <th>VehicleType_convertible</th>\n",
       "      <th>VehicleType_coupe</th>\n",
       "      <th>VehicleType_missing</th>\n",
       "      <th>VehicleType_other</th>\n",
       "      <th>VehicleType_sedan</th>\n",
       "      <th>...</th>\n",
       "      <th>Brand_seat</th>\n",
       "      <th>Brand_skoda</th>\n",
       "      <th>Brand_smart</th>\n",
       "      <th>Brand_sonstige_autos</th>\n",
       "      <th>Brand_subaru</th>\n",
       "      <th>Brand_suzuki</th>\n",
       "      <th>Brand_toyota</th>\n",
       "      <th>Brand_trabant</th>\n",
       "      <th>Brand_volkswagen</th>\n",
       "      <th>Brand_volvo</th>\n",
       "    </tr>\n",
       "  </thead>\n",
       "  <tbody>\n",
       "    <tr>\n",
       "      <th>count</th>\n",
       "      <td>337629.000000</td>\n",
       "      <td>337629.000000</td>\n",
       "      <td>337629.000000</td>\n",
       "      <td>337629.000000</td>\n",
       "      <td>337629.000000</td>\n",
       "      <td>337629.000000</td>\n",
       "      <td>337629.000000</td>\n",
       "      <td>337629.000000</td>\n",
       "      <td>337629.000000</td>\n",
       "      <td>337629.000000</td>\n",
       "      <td>...</td>\n",
       "      <td>337629.000000</td>\n",
       "      <td>337629.000000</td>\n",
       "      <td>337629.000000</td>\n",
       "      <td>337629.000000</td>\n",
       "      <td>337629.000000</td>\n",
       "      <td>337629.000000</td>\n",
       "      <td>337629.000000</td>\n",
       "      <td>337629.000000</td>\n",
       "      <td>337629.000000</td>\n",
       "      <td>337629.000000</td>\n",
       "    </tr>\n",
       "    <tr>\n",
       "      <th>mean</th>\n",
       "      <td>4437.357493</td>\n",
       "      <td>2003.874149</td>\n",
       "      <td>110.605920</td>\n",
       "      <td>128914.637072</td>\n",
       "      <td>5.793931</td>\n",
       "      <td>0.057267</td>\n",
       "      <td>0.044780</td>\n",
       "      <td>0.096304</td>\n",
       "      <td>0.008980</td>\n",
       "      <td>0.261148</td>\n",
       "      <td>...</td>\n",
       "      <td>0.019664</td>\n",
       "      <td>0.015932</td>\n",
       "      <td>0.015236</td>\n",
       "      <td>0.007724</td>\n",
       "      <td>0.002121</td>\n",
       "      <td>0.006676</td>\n",
       "      <td>0.013302</td>\n",
       "      <td>0.001407</td>\n",
       "      <td>0.217019</td>\n",
       "      <td>0.009108</td>\n",
       "    </tr>\n",
       "    <tr>\n",
       "      <th>std</th>\n",
       "      <td>4278.302527</td>\n",
       "      <td>68.450397</td>\n",
       "      <td>188.994587</td>\n",
       "      <td>36902.743319</td>\n",
       "      <td>3.692011</td>\n",
       "      <td>0.232352</td>\n",
       "      <td>0.206821</td>\n",
       "      <td>0.295008</td>\n",
       "      <td>0.094338</td>\n",
       "      <td>0.439261</td>\n",
       "      <td>...</td>\n",
       "      <td>0.138842</td>\n",
       "      <td>0.125211</td>\n",
       "      <td>0.122489</td>\n",
       "      <td>0.087549</td>\n",
       "      <td>0.046002</td>\n",
       "      <td>0.081434</td>\n",
       "      <td>0.114563</td>\n",
       "      <td>0.037482</td>\n",
       "      <td>0.412216</td>\n",
       "      <td>0.094998</td>\n",
       "    </tr>\n",
       "    <tr>\n",
       "      <th>min</th>\n",
       "      <td>100.000000</td>\n",
       "      <td>1000.000000</td>\n",
       "      <td>0.000000</td>\n",
       "      <td>5000.000000</td>\n",
       "      <td>0.000000</td>\n",
       "      <td>0.000000</td>\n",
       "      <td>0.000000</td>\n",
       "      <td>0.000000</td>\n",
       "      <td>0.000000</td>\n",
       "      <td>0.000000</td>\n",
       "      <td>...</td>\n",
       "      <td>0.000000</td>\n",
       "      <td>0.000000</td>\n",
       "      <td>0.000000</td>\n",
       "      <td>0.000000</td>\n",
       "      <td>0.000000</td>\n",
       "      <td>0.000000</td>\n",
       "      <td>0.000000</td>\n",
       "      <td>0.000000</td>\n",
       "      <td>0.000000</td>\n",
       "      <td>0.000000</td>\n",
       "    </tr>\n",
       "    <tr>\n",
       "      <th>25%</th>\n",
       "      <td>1200.000000</td>\n",
       "      <td>1999.000000</td>\n",
       "      <td>69.000000</td>\n",
       "      <td>125000.000000</td>\n",
       "      <td>3.000000</td>\n",
       "      <td>0.000000</td>\n",
       "      <td>0.000000</td>\n",
       "      <td>0.000000</td>\n",
       "      <td>0.000000</td>\n",
       "      <td>0.000000</td>\n",
       "      <td>...</td>\n",
       "      <td>0.000000</td>\n",
       "      <td>0.000000</td>\n",
       "      <td>0.000000</td>\n",
       "      <td>0.000000</td>\n",
       "      <td>0.000000</td>\n",
       "      <td>0.000000</td>\n",
       "      <td>0.000000</td>\n",
       "      <td>0.000000</td>\n",
       "      <td>0.000000</td>\n",
       "      <td>0.000000</td>\n",
       "    </tr>\n",
       "    <tr>\n",
       "      <th>50%</th>\n",
       "      <td>2850.000000</td>\n",
       "      <td>2003.000000</td>\n",
       "      <td>105.000000</td>\n",
       "      <td>150000.000000</td>\n",
       "      <td>6.000000</td>\n",
       "      <td>0.000000</td>\n",
       "      <td>0.000000</td>\n",
       "      <td>0.000000</td>\n",
       "      <td>0.000000</td>\n",
       "      <td>0.000000</td>\n",
       "      <td>...</td>\n",
       "      <td>0.000000</td>\n",
       "      <td>0.000000</td>\n",
       "      <td>0.000000</td>\n",
       "      <td>0.000000</td>\n",
       "      <td>0.000000</td>\n",
       "      <td>0.000000</td>\n",
       "      <td>0.000000</td>\n",
       "      <td>0.000000</td>\n",
       "      <td>0.000000</td>\n",
       "      <td>0.000000</td>\n",
       "    </tr>\n",
       "    <tr>\n",
       "      <th>75%</th>\n",
       "      <td>6490.000000</td>\n",
       "      <td>2008.000000</td>\n",
       "      <td>141.000000</td>\n",
       "      <td>150000.000000</td>\n",
       "      <td>9.000000</td>\n",
       "      <td>0.000000</td>\n",
       "      <td>0.000000</td>\n",
       "      <td>0.000000</td>\n",
       "      <td>0.000000</td>\n",
       "      <td>1.000000</td>\n",
       "      <td>...</td>\n",
       "      <td>0.000000</td>\n",
       "      <td>0.000000</td>\n",
       "      <td>0.000000</td>\n",
       "      <td>0.000000</td>\n",
       "      <td>0.000000</td>\n",
       "      <td>0.000000</td>\n",
       "      <td>0.000000</td>\n",
       "      <td>0.000000</td>\n",
       "      <td>0.000000</td>\n",
       "      <td>0.000000</td>\n",
       "    </tr>\n",
       "    <tr>\n",
       "      <th>max</th>\n",
       "      <td>18850.000000</td>\n",
       "      <td>9999.000000</td>\n",
       "      <td>20000.000000</td>\n",
       "      <td>150000.000000</td>\n",
       "      <td>12.000000</td>\n",
       "      <td>1.000000</td>\n",
       "      <td>1.000000</td>\n",
       "      <td>1.000000</td>\n",
       "      <td>1.000000</td>\n",
       "      <td>1.000000</td>\n",
       "      <td>...</td>\n",
       "      <td>1.000000</td>\n",
       "      <td>1.000000</td>\n",
       "      <td>1.000000</td>\n",
       "      <td>1.000000</td>\n",
       "      <td>1.000000</td>\n",
       "      <td>1.000000</td>\n",
       "      <td>1.000000</td>\n",
       "      <td>1.000000</td>\n",
       "      <td>1.000000</td>\n",
       "      <td>1.000000</td>\n",
       "    </tr>\n",
       "  </tbody>\n",
       "</table>\n",
       "<p>8 rows × 313 columns</p>\n",
       "</div>"
      ],
      "text/plain": [
       "               Price  RegistrationYear          Power        Mileage  \\\n",
       "count  337629.000000     337629.000000  337629.000000  337629.000000   \n",
       "mean     4437.357493       2003.874149     110.605920  128914.637072   \n",
       "std      4278.302527         68.450397     188.994587   36902.743319   \n",
       "min       100.000000       1000.000000       0.000000    5000.000000   \n",
       "25%      1200.000000       1999.000000      69.000000  125000.000000   \n",
       "50%      2850.000000       2003.000000     105.000000  150000.000000   \n",
       "75%      6490.000000       2008.000000     141.000000  150000.000000   \n",
       "max     18850.000000       9999.000000   20000.000000  150000.000000   \n",
       "\n",
       "       RegistrationMonth  VehicleType_convertible  VehicleType_coupe  \\\n",
       "count      337629.000000            337629.000000      337629.000000   \n",
       "mean            5.793931                 0.057267           0.044780   \n",
       "std             3.692011                 0.232352           0.206821   \n",
       "min             0.000000                 0.000000           0.000000   \n",
       "25%             3.000000                 0.000000           0.000000   \n",
       "50%             6.000000                 0.000000           0.000000   \n",
       "75%             9.000000                 0.000000           0.000000   \n",
       "max            12.000000                 1.000000           1.000000   \n",
       "\n",
       "       VehicleType_missing  VehicleType_other  VehicleType_sedan  ...  \\\n",
       "count        337629.000000      337629.000000      337629.000000  ...   \n",
       "mean              0.096304           0.008980           0.261148  ...   \n",
       "std               0.295008           0.094338           0.439261  ...   \n",
       "min               0.000000           0.000000           0.000000  ...   \n",
       "25%               0.000000           0.000000           0.000000  ...   \n",
       "50%               0.000000           0.000000           0.000000  ...   \n",
       "75%               0.000000           0.000000           1.000000  ...   \n",
       "max               1.000000           1.000000           1.000000  ...   \n",
       "\n",
       "          Brand_seat    Brand_skoda    Brand_smart  Brand_sonstige_autos  \\\n",
       "count  337629.000000  337629.000000  337629.000000         337629.000000   \n",
       "mean        0.019664       0.015932       0.015236              0.007724   \n",
       "std         0.138842       0.125211       0.122489              0.087549   \n",
       "min         0.000000       0.000000       0.000000              0.000000   \n",
       "25%         0.000000       0.000000       0.000000              0.000000   \n",
       "50%         0.000000       0.000000       0.000000              0.000000   \n",
       "75%         0.000000       0.000000       0.000000              0.000000   \n",
       "max         1.000000       1.000000       1.000000              1.000000   \n",
       "\n",
       "        Brand_subaru   Brand_suzuki   Brand_toyota  Brand_trabant  \\\n",
       "count  337629.000000  337629.000000  337629.000000  337629.000000   \n",
       "mean        0.002121       0.006676       0.013302       0.001407   \n",
       "std         0.046002       0.081434       0.114563       0.037482   \n",
       "min         0.000000       0.000000       0.000000       0.000000   \n",
       "25%         0.000000       0.000000       0.000000       0.000000   \n",
       "50%         0.000000       0.000000       0.000000       0.000000   \n",
       "75%         0.000000       0.000000       0.000000       0.000000   \n",
       "max         1.000000       1.000000       1.000000       1.000000   \n",
       "\n",
       "       Brand_volkswagen    Brand_volvo  \n",
       "count     337629.000000  337629.000000  \n",
       "mean           0.217019       0.009108  \n",
       "std            0.412216       0.094998  \n",
       "min            0.000000       0.000000  \n",
       "25%            0.000000       0.000000  \n",
       "50%            0.000000       0.000000  \n",
       "75%            0.000000       0.000000  \n",
       "max            1.000000       1.000000  \n",
       "\n",
       "[8 rows x 313 columns]"
      ]
     },
     "execution_count": 4,
     "metadata": {},
     "output_type": "execute_result"
    }
   ],
   "source": [
    "df_procesado = preprocess_data(df)\n",
    "df_procesado.info()\n",
    "df_procesado.describe()"
   ]
  },
  {
   "cell_type": "markdown",
   "metadata": {},
   "source": [
    "## Entrenamiento del modelo "
   ]
  },
  {
   "cell_type": "code",
   "execution_count": 5,
   "metadata": {
    "trusted": true
   },
   "outputs": [],
   "source": [
    "# División en conjuntos entrenamiento y prueba\n",
    "X = df_procesado.drop(\"Price\", axis=1)\n",
    "y = df_procesado[\"Price\"]\n",
    "X_train, X_test, y_train, y_test = train_test_split(X, y, test_size=0.25, random_state=42)"
   ]
  },
  {
   "cell_type": "code",
   "execution_count": 6,
   "metadata": {
    "trusted": true
   },
   "outputs": [],
   "source": [
    "def recm_metric(y_true, y_pred):\n",
    "    return np.mean(np.abs(y_true - y_pred) / y_true)\n",
    "recm_scorer = make_scorer(lambda y, y_pred: -recm_metric(y, y_pred))"
   ]
  },
  {
   "cell_type": "code",
   "execution_count": 7,
   "metadata": {
    "scrolled": true,
    "trusted": true
   },
   "outputs": [
    {
     "name": "stdout",
     "output_type": "stream",
     "text": [
      "Regresión Lineal - RECM: 1.2491\n",
      "Tiempo de ejecución: 10.44 segundos\n"
     ]
    }
   ],
   "source": [
    "# Regresión lineal\n",
    "start_time = time.time()\n",
    "\n",
    "lin_reg = LinearRegression()\n",
    "lin_reg.fit(X_train, y_train)\n",
    "y_pred_lin = lin_reg.predict(X_test)\n",
    "recm_lin = recm_metric(y_test, y_pred_lin)\n",
    "print(\"Regresión Lineal - RECM: {:.4f}\".format(recm_lin))\n",
    "\n",
    "end_time = time.time()\n",
    "print(\"Tiempo de ejecución: {:.2f} segundos\".format(end_time - start_time))"
   ]
  },
  {
   "cell_type": "code",
   "execution_count": 8,
   "metadata": {
    "trusted": true
   },
   "outputs": [
    {
     "name": "stdout",
     "output_type": "stream",
     "text": [
      "Tamaño de X_train_sample: (10000, 312)\n",
      "Tamaño de y_train_sample: (10000,)\n",
      "Random Forest - Mejores parámetros: {'max_depth': None, 'n_estimators': 150}\n",
      "Random Forest - RECM: 0.5549\n",
      "Tiempo de ejecución: 85.45 segundos\n"
     ]
    }
   ],
   "source": [
    "\n",
    "# Muestra \n",
    "sample_size = 10000  \n",
    "\n",
    "X_train_sample = X_train.sample(n=sample_size, random_state=1234)\n",
    "y_train_sample = y_train.loc[X_train_sample.index]\n",
    "\n",
    "# Confirmar el tamaño de la muestra\n",
    "print(\"Tamaño de X_train_sample:\", X_train_sample.shape)\n",
    "print(\"Tamaño de y_train_sample:\", y_train_sample.shape)\n",
    "\n",
    "# Bosque aleatorio\n",
    "start_time = time.time()\n",
    "\n",
    "rf = RandomForestRegressor(random_state=42)\n",
    "param_grid_rf = {\n",
    "    \"n_estimators\": [100, 150],\n",
    "    \"max_depth\": [10, 20, None]\n",
    "}\n",
    "\n",
    "# Ajustamos el grid search usando la muestra reducida\n",
    "grid_rf = GridSearchCV(rf, param_grid_rf, cv=3, scoring=recm_scorer, n_jobs=-1)\n",
    "grid_rf.fit(X_train_sample, y_train_sample)\n",
    "\n",
    "best_rf = grid_rf.best_estimator_\n",
    "y_pred_rf = best_rf.predict(X_test)\n",
    "recm_rf = recm_metric(y_test, y_pred_rf)\n",
    "print(\"Random Forest - Mejores parámetros:\", grid_rf.best_params_)\n",
    "print(\"Random Forest - RECM: {:.4f}\".format(recm_rf))\n",
    "\n",
    "end_time = time.time()\n",
    "print(\"Tiempo de ejecución: {:.2f} segundos\".format(end_time - start_time))"
   ]
  },
  {
   "cell_type": "code",
   "execution_count": 9,
   "metadata": {
    "trusted": true
   },
   "outputs": [
    {
     "name": "stdout",
     "output_type": "stream",
     "text": [
      "LightGBM - Mejores parámetros: {'learning_rate': 0.1, 'n_estimators': 150, 'num_leaves': 31}\n",
      "LightGBM - RECM: 0.5457\n",
      "Tiempo de ejecución: 14.29 segundos\n"
     ]
    }
   ],
   "source": [
    "# Modelo: LightGBM\n",
    "start_time = time.time()\n",
    "\n",
    "lgb_model = lgb.LGBMRegressor(random_state=42)\n",
    "param_grid_lgb = {\n",
    "    \"num_leaves\": [31, 50],\n",
    "    \"n_estimators\": [100, 150],\n",
    "    \"learning_rate\": [0.1, 0.05]\n",
    "}\n",
    "\n",
    "grid_lgb = GridSearchCV(lgb_model, param_grid_lgb, cv=3, scoring=recm_scorer, n_jobs=-1)\n",
    "grid_lgb.fit(X_train_sample, y_train_sample)\n",
    "\n",
    "best_lgb = grid_lgb.best_estimator_\n",
    "y_pred_lgb = best_lgb.predict(X_test)\n",
    "recm_lgb = recm_metric(y_test, y_pred_lgb)\n",
    "print(\"LightGBM - Mejores parámetros:\", grid_lgb.best_params_)\n",
    "print(\"LightGBM - RECM: {:.4f}\".format(recm_lgb))\n",
    "\n",
    "end_time = time.time()\n",
    "print(\"Tiempo de ejecución: {:.2f} segundos\".format(end_time - start_time))"
   ]
  },
  {
   "cell_type": "markdown",
   "metadata": {},
   "source": [
    "## Análisis del modelo"
   ]
  },
  {
   "cell_type": "markdown",
   "metadata": {},
   "source": [
    "La regresión lineal tuvo un error mayor que el modelo LightGBM, por lo tanto sirve como prueba de cordura indicando que la regresión lineal no capta relaciones complejas."
   ]
  },
  {
   "cell_type": "markdown",
   "metadata": {},
   "source": [
    "\n",
    "Para el bosque aleatorio y el modelo Light GBM se optó por hacer pruebas con una muestra aleatoria.\n",
    "\n",
    "En el bosque aleatorio se observa una mejora significativa en precisión respecto a la regresión lineal. El modelado basado en árboles redujo el error a menos de la mitad del valor obtenido por la regresión lineal.\n",
    "\n",
    "Similar al Random Forest, LightGBM alcanza un RECM ligeramente menor. Esto indica que, en términos de calidad, el boosting con LightGBM está funcionando mejor.\n",
    "\n",
    "Random Forest, aunque con buen desempeño en precisión, resulta bastante más lento en entrenar debido al costo computacional del grid de hiperparámetros.\n",
    "\n",
    "LightGBM no solo alcanza una precisión ligeramente superior, sino que lo hace en un tiempo considerablemente menor."
   ]
  },
  {
   "cell_type": "markdown",
   "metadata": {},
   "source": [
    "Los resultados muestran que la regresión lineal, aunque rápida, sirve como línea base. Los modelos basados en árboles, en especial LightGBM, logran un rendimiento mucho mejor en términos de error relativo (RECM) y además son significativamente más rápidos en entrenamiento que el Random Forest ajustado mediante GridSearchCV. Este análisis sugiere que, si en algún experimento un modelo de boosting (como LightGBM) arrojara un RECM peor que la regresión lineal, habría que revisar el preprocesamiento o la selección de hiperparámetros, ya que es esperado que un modelo de boosting mejore la estimación."
   ]
  }
 ],
 "metadata": {
  "ExecuteTimeLog": [
   {
    "duration": 396,
    "start_time": "2025-04-27T00:06:19.635Z"
   },
   {
    "duration": 712,
    "start_time": "2025-04-27T00:06:20.839Z"
   },
   {
    "duration": 662,
    "start_time": "2025-04-27T00:15:02.058Z"
   },
   {
    "duration": 70,
    "start_time": "2025-04-27T00:21:04.297Z"
   },
   {
    "duration": 529,
    "start_time": "2025-04-27T00:26:43.535Z"
   },
   {
    "duration": 187,
    "start_time": "2025-04-27T00:30:20.054Z"
   },
   {
    "duration": 294,
    "start_time": "2025-04-27T00:30:30.903Z"
   },
   {
    "duration": 589,
    "start_time": "2025-04-27T00:30:31.199Z"
   },
   {
    "duration": 195,
    "start_time": "2025-04-27T00:30:31.790Z"
   },
   {
    "duration": 0,
    "start_time": "2025-04-27T00:30:31.987Z"
   },
   {
    "duration": 14,
    "start_time": "2025-04-27T00:34:06.814Z"
   },
   {
    "duration": 731,
    "start_time": "2025-04-27T00:34:26.577Z"
   },
   {
    "duration": 62,
    "start_time": "2025-04-27T00:34:43.469Z"
   },
   {
    "duration": 66,
    "start_time": "2025-04-27T00:37:29.963Z"
   },
   {
    "duration": 55,
    "start_time": "2025-04-27T00:37:36.212Z"
   },
   {
    "duration": 5,
    "start_time": "2025-04-27T00:41:20.232Z"
   },
   {
    "duration": 101,
    "start_time": "2025-04-27T00:41:39.535Z"
   },
   {
    "duration": 163,
    "start_time": "2025-04-27T00:41:52.399Z"
   },
   {
    "duration": 353,
    "start_time": "2025-04-27T00:42:28.045Z"
   },
   {
    "duration": 600,
    "start_time": "2025-04-27T00:42:28.402Z"
   },
   {
    "duration": 4,
    "start_time": "2025-04-27T00:42:29.004Z"
   },
   {
    "duration": 158,
    "start_time": "2025-04-27T00:42:29.012Z"
   },
   {
    "duration": 1930,
    "start_time": "2025-04-27T00:45:47.725Z"
   },
   {
    "duration": 1578,
    "start_time": "2025-04-27T00:47:06.631Z"
   },
   {
    "duration": 343,
    "start_time": "2025-04-27T00:47:40.240Z"
   },
   {
    "duration": 599,
    "start_time": "2025-04-27T00:47:40.584Z"
   },
   {
    "duration": 5,
    "start_time": "2025-04-27T00:47:41.185Z"
   },
   {
    "duration": 2861,
    "start_time": "2025-04-27T00:47:41.192Z"
   },
   {
    "duration": 6,
    "start_time": "2025-04-27T00:50:49.202Z"
   },
   {
    "duration": 1553,
    "start_time": "2025-04-27T00:50:50.571Z"
   },
   {
    "duration": 663,
    "start_time": "2025-04-27T01:05:17.917Z"
   },
   {
    "duration": 540,
    "start_time": "2025-04-27T01:05:18.639Z"
   },
   {
    "duration": 5,
    "start_time": "2025-04-27T01:05:21.733Z"
   },
   {
    "duration": 2797,
    "start_time": "2025-04-27T01:05:24.410Z"
   },
   {
    "duration": 224,
    "start_time": "2025-04-27T01:11:31.109Z"
   },
   {
    "duration": 926,
    "start_time": "2025-04-27T01:11:38.097Z"
   },
   {
    "duration": 569,
    "start_time": "2025-04-27T01:11:39.026Z"
   },
   {
    "duration": 5,
    "start_time": "2025-04-27T01:11:39.597Z"
   },
   {
    "duration": 2875,
    "start_time": "2025-04-27T01:11:39.604Z"
   },
   {
    "duration": 558,
    "start_time": "2025-04-27T01:11:42.482Z"
   },
   {
    "duration": 1280,
    "start_time": "2025-04-27T01:11:43.042Z"
   },
   {
    "duration": 0,
    "start_time": "2025-04-27T01:11:44.331Z"
   },
   {
    "duration": 4,
    "start_time": "2025-04-27T01:16:11.998Z"
   },
   {
    "duration": 1811,
    "start_time": "2025-04-27T01:16:12.877Z"
   },
   {
    "duration": 648,
    "start_time": "2025-04-27T01:16:19.968Z"
   },
   {
    "duration": 11200,
    "start_time": "2025-04-27T01:16:22.133Z"
   },
   {
    "duration": 3,
    "start_time": "2025-04-27T01:17:26.816Z"
   },
   {
    "duration": 10781,
    "start_time": "2025-04-27T01:17:27.569Z"
   },
   {
    "duration": 920,
    "start_time": "2025-04-27T01:22:54.858Z"
   },
   {
    "duration": 620,
    "start_time": "2025-04-27T01:22:55.780Z"
   },
   {
    "duration": 5,
    "start_time": "2025-04-27T01:22:56.402Z"
   },
   {
    "duration": 3077,
    "start_time": "2025-04-27T01:22:56.410Z"
   },
   {
    "duration": 718,
    "start_time": "2025-04-27T01:22:59.489Z"
   },
   {
    "duration": 4,
    "start_time": "2025-04-27T01:23:00.209Z"
   },
   {
    "duration": 12770,
    "start_time": "2025-04-27T01:23:00.215Z"
   },
   {
    "duration": 941,
    "start_time": "2025-04-27T01:29:18.545Z"
   },
   {
    "duration": 592,
    "start_time": "2025-04-27T01:29:19.489Z"
   },
   {
    "duration": 5,
    "start_time": "2025-04-27T01:29:20.082Z"
   },
   {
    "duration": 3021,
    "start_time": "2025-04-27T01:29:20.090Z"
   },
   {
    "duration": 641,
    "start_time": "2025-04-27T01:29:23.113Z"
   },
   {
    "duration": 3,
    "start_time": "2025-04-27T01:29:23.756Z"
   },
   {
    "duration": 10823,
    "start_time": "2025-04-27T01:29:23.761Z"
   },
   {
    "duration": 355565,
    "start_time": "2025-04-27T01:29:34.631Z"
   },
   {
    "duration": 0,
    "start_time": "2025-04-27T01:35:30.199Z"
   },
   {
    "duration": 0,
    "start_time": "2025-04-27T01:35:30.200Z"
   },
   {
    "duration": 99200,
    "start_time": "2025-04-27T01:38:21.322Z"
   },
   {
    "duration": 119139,
    "start_time": "2025-04-27T01:40:04.940Z"
   },
   {
    "duration": 66,
    "start_time": "2025-04-27T01:43:07.935Z"
   },
   {
    "duration": 908,
    "start_time": "2025-04-27T01:44:06.464Z"
   },
   {
    "duration": 593,
    "start_time": "2025-04-27T01:44:07.374Z"
   },
   {
    "duration": 5,
    "start_time": "2025-04-27T01:44:07.969Z"
   },
   {
    "duration": 3066,
    "start_time": "2025-04-27T01:44:07.977Z"
   },
   {
    "duration": 655,
    "start_time": "2025-04-27T01:44:11.046Z"
   },
   {
    "duration": 3,
    "start_time": "2025-04-27T01:44:11.703Z"
   },
   {
    "duration": 10684,
    "start_time": "2025-04-27T01:44:11.707Z"
   },
   {
    "duration": 153,
    "start_time": "2025-04-27T01:44:22.432Z"
   },
   {
    "duration": 0,
    "start_time": "2025-04-27T01:44:22.586Z"
   },
   {
    "duration": 0,
    "start_time": "2025-04-27T01:44:22.587Z"
   },
   {
    "duration": 0,
    "start_time": "2025-04-27T01:44:22.590Z"
   },
   {
    "duration": 921,
    "start_time": "2025-04-27T01:45:43.133Z"
   },
   {
    "duration": 576,
    "start_time": "2025-04-27T01:45:44.056Z"
   },
   {
    "duration": 5,
    "start_time": "2025-04-27T01:45:44.635Z"
   },
   {
    "duration": 3069,
    "start_time": "2025-04-27T01:45:44.642Z"
   },
   {
    "duration": 642,
    "start_time": "2025-04-27T01:45:47.713Z"
   },
   {
    "duration": 3,
    "start_time": "2025-04-27T01:45:48.357Z"
   },
   {
    "duration": 10575,
    "start_time": "2025-04-27T01:45:48.362Z"
   },
   {
    "duration": 17930,
    "start_time": "2025-04-27T01:45:58.939Z"
   },
   {
    "duration": 0,
    "start_time": "2025-04-27T01:46:16.872Z"
   },
   {
    "duration": 0,
    "start_time": "2025-04-27T01:46:16.873Z"
   },
   {
    "duration": 0,
    "start_time": "2025-04-27T01:46:16.875Z"
   },
   {
    "duration": 28090,
    "start_time": "2025-04-27T01:47:27.575Z"
   },
   {
    "duration": 132995,
    "start_time": "2025-04-27T01:48:39.459Z"
   },
   {
    "duration": 217121,
    "start_time": "2025-04-27T02:08:21.229Z"
   },
   {
    "duration": 1071,
    "start_time": "2025-04-27T02:18:52.764Z"
   },
   {
    "duration": 701,
    "start_time": "2025-04-27T02:18:53.837Z"
   },
   {
    "duration": 21,
    "start_time": "2025-04-27T02:18:54.540Z"
   },
   {
    "duration": 3619,
    "start_time": "2025-04-27T02:18:54.564Z"
   },
   {
    "duration": 836,
    "start_time": "2025-04-27T02:18:58.186Z"
   },
   {
    "duration": 5,
    "start_time": "2025-04-27T02:18:59.023Z"
   },
   {
    "duration": 303,
    "start_time": "2025-04-27T02:18:59.036Z"
   },
   {
    "duration": 0,
    "start_time": "2025-04-27T02:18:59.345Z"
   },
   {
    "duration": 0,
    "start_time": "2025-04-27T02:18:59.350Z"
   },
   {
    "duration": 0,
    "start_time": "2025-04-27T02:18:59.355Z"
   },
   {
    "duration": 0,
    "start_time": "2025-04-27T02:18:59.362Z"
   },
   {
    "duration": 15,
    "start_time": "2025-04-27T02:19:46.787Z"
   },
   {
    "duration": 900,
    "start_time": "2025-04-27T02:19:58.450Z"
   },
   {
    "duration": 4,
    "start_time": "2025-04-27T02:19:59.776Z"
   },
   {
    "duration": 15194,
    "start_time": "2025-04-27T02:20:01.290Z"
   },
   {
    "duration": 31026,
    "start_time": "2025-04-27T02:20:18.436Z"
   },
   {
    "duration": 24,
    "start_time": "2025-04-27T02:24:52.026Z"
   },
   {
    "duration": 20,
    "start_time": "2025-04-27T02:25:16.554Z"
   },
   {
    "duration": 95,
    "start_time": "2025-04-27T02:32:13.548Z"
   },
   {
    "duration": 873,
    "start_time": "2025-04-27T02:34:47.905Z"
   },
   {
    "duration": 569,
    "start_time": "2025-04-27T02:34:48.780Z"
   },
   {
    "duration": 5,
    "start_time": "2025-04-27T02:34:49.351Z"
   },
   {
    "duration": 3065,
    "start_time": "2025-04-27T02:34:49.359Z"
   },
   {
    "duration": 621,
    "start_time": "2025-04-27T02:34:52.430Z"
   },
   {
    "duration": 10834,
    "start_time": "2025-04-27T02:34:53.052Z"
   },
   {
    "duration": 45,
    "start_time": "2025-04-27T02:35:03.888Z"
   },
   {
    "duration": 378,
    "start_time": "2025-04-27T02:35:03.935Z"
   },
   {
    "duration": 0,
    "start_time": "2025-04-27T02:35:04.316Z"
   },
   {
    "duration": 0,
    "start_time": "2025-04-27T02:35:04.317Z"
   },
   {
    "duration": 0,
    "start_time": "2025-04-27T02:35:04.319Z"
   },
   {
    "duration": 16,
    "start_time": "2025-04-27T02:35:33.804Z"
   },
   {
    "duration": 931,
    "start_time": "2025-04-27T02:40:57.346Z"
   },
   {
    "duration": 611,
    "start_time": "2025-04-27T02:40:58.280Z"
   },
   {
    "duration": 7,
    "start_time": "2025-04-27T02:40:58.893Z"
   },
   {
    "duration": 3072,
    "start_time": "2025-04-27T02:40:58.901Z"
   },
   {
    "duration": 640,
    "start_time": "2025-04-27T02:41:01.976Z"
   },
   {
    "duration": 3,
    "start_time": "2025-04-27T02:41:02.618Z"
   },
   {
    "duration": 10843,
    "start_time": "2025-04-27T02:41:02.623Z"
   },
   {
    "duration": 65,
    "start_time": "2025-04-27T02:41:13.468Z"
   },
   {
    "duration": 8,
    "start_time": "2025-04-27T02:41:13.538Z"
   },
   {
    "duration": 0,
    "start_time": "2025-04-27T02:41:13.549Z"
   },
   {
    "duration": 0,
    "start_time": "2025-04-27T02:41:13.551Z"
   },
   {
    "duration": 0,
    "start_time": "2025-04-27T02:41:13.554Z"
   },
   {
    "duration": 9071,
    "start_time": "2025-04-27T02:45:29.618Z"
   },
   {
    "duration": 5,
    "start_time": "2025-04-27T02:46:29.084Z"
   },
   {
    "duration": 4,
    "start_time": "2025-04-27T02:46:43.502Z"
   },
   {
    "duration": 904,
    "start_time": "2025-04-27T02:47:23.999Z"
   },
   {
    "duration": 587,
    "start_time": "2025-04-27T02:47:24.905Z"
   },
   {
    "duration": 5,
    "start_time": "2025-04-27T02:47:25.494Z"
   },
   {
    "duration": 3130,
    "start_time": "2025-04-27T02:47:25.502Z"
   },
   {
    "duration": 634,
    "start_time": "2025-04-27T02:47:28.634Z"
   },
   {
    "duration": 3,
    "start_time": "2025-04-27T02:47:29.270Z"
   },
   {
    "duration": 10688,
    "start_time": "2025-04-27T02:47:29.274Z"
   },
   {
    "duration": 4,
    "start_time": "2025-04-27T02:47:39.964Z"
   },
   {
    "duration": 923,
    "start_time": "2025-04-27T02:52:40.928Z"
   },
   {
    "duration": 600,
    "start_time": "2025-04-27T02:52:41.853Z"
   },
   {
    "duration": 5,
    "start_time": "2025-04-27T02:52:42.455Z"
   },
   {
    "duration": 2976,
    "start_time": "2025-04-27T02:52:42.463Z"
   },
   {
    "duration": 664,
    "start_time": "2025-04-27T02:52:45.441Z"
   },
   {
    "duration": 3,
    "start_time": "2025-04-27T02:52:46.107Z"
   },
   {
    "duration": 3,
    "start_time": "2025-04-27T02:52:46.112Z"
   },
   {
    "duration": 0,
    "start_time": "2025-04-27T02:52:46.117Z"
   },
   {
    "duration": 0,
    "start_time": "2025-04-27T02:52:46.118Z"
   },
   {
    "duration": 0,
    "start_time": "2025-04-27T02:52:46.119Z"
   },
   {
    "duration": 955,
    "start_time": "2025-04-27T02:55:35.523Z"
   },
   {
    "duration": 587,
    "start_time": "2025-04-27T02:55:36.480Z"
   },
   {
    "duration": 5,
    "start_time": "2025-04-27T02:55:37.069Z"
   },
   {
    "duration": 3003,
    "start_time": "2025-04-27T02:55:37.076Z"
   },
   {
    "duration": 646,
    "start_time": "2025-04-27T02:55:40.081Z"
   },
   {
    "duration": 6,
    "start_time": "2025-04-27T02:55:40.729Z"
   },
   {
    "duration": 4,
    "start_time": "2025-04-27T02:55:40.736Z"
   },
   {
    "duration": 0,
    "start_time": "2025-04-27T02:55:40.742Z"
   },
   {
    "duration": 0,
    "start_time": "2025-04-27T02:55:40.743Z"
   },
   {
    "duration": 0,
    "start_time": "2025-04-27T02:55:40.744Z"
   },
   {
    "duration": 4,
    "start_time": "2025-04-27T02:56:04.656Z"
   },
   {
    "duration": 3,
    "start_time": "2025-04-27T02:58:31.382Z"
   },
   {
    "duration": 566,
    "start_time": "2025-04-27T02:58:40.705Z"
   },
   {
    "duration": 5,
    "start_time": "2025-04-27T02:58:56.993Z"
   },
   {
    "duration": 6,
    "start_time": "2025-04-27T02:59:33.841Z"
   },
   {
    "duration": 3,
    "start_time": "2025-04-27T02:59:38.426Z"
   },
   {
    "duration": 560,
    "start_time": "2025-04-27T02:59:49.991Z"
   },
   {
    "duration": 9,
    "start_time": "2025-04-27T03:00:03.937Z"
   },
   {
    "duration": 3236,
    "start_time": "2025-04-27T03:00:04.955Z"
   },
   {
    "duration": 10770,
    "start_time": "2025-04-27T03:01:50.662Z"
   },
   {
    "duration": 88116,
    "start_time": "2025-04-27T03:03:12.716Z"
   },
   {
    "duration": 398759,
    "start_time": "2025-04-27T03:08:18.782Z"
   },
   {
    "duration": 14350,
    "start_time": "2025-04-27T03:15:07.099Z"
   },
   {
    "duration": 4,
    "start_time": "2025-04-27T03:23:01.452Z"
   },
   {
    "duration": 860,
    "start_time": "2025-04-27T19:17:01.372Z"
   },
   {
    "duration": 594,
    "start_time": "2025-04-27T19:17:02.234Z"
   },
   {
    "duration": 4,
    "start_time": "2025-04-27T19:17:02.830Z"
   },
   {
    "duration": 2917,
    "start_time": "2025-04-27T19:17:02.837Z"
   },
   {
    "duration": 618,
    "start_time": "2025-04-27T19:17:05.756Z"
   },
   {
    "duration": 2,
    "start_time": "2025-04-27T19:17:06.376Z"
   },
   {
    "duration": 10449,
    "start_time": "2025-04-27T19:17:06.380Z"
   },
   {
    "duration": 85600,
    "start_time": "2025-04-27T19:17:16.832Z"
   },
   {
    "duration": 14299,
    "start_time": "2025-04-27T19:18:42.434Z"
   }
  ],
  "kernelspec": {
   "display_name": "Python 3 (ipykernel)",
   "language": "python",
   "name": "python3"
  },
  "language_info": {
   "codemirror_mode": {
    "name": "ipython",
    "version": 3
   },
   "file_extension": ".py",
   "mimetype": "text/x-python",
   "name": "python",
   "nbconvert_exporter": "python",
   "pygments_lexer": "ipython3",
   "version": "3.9.19"
  },
  "toc": {
   "base_numbering": 1,
   "nav_menu": {},
   "number_sections": true,
   "sideBar": true,
   "skip_h1_title": true,
   "title_cell": "Table of Contents",
   "title_sidebar": "Contents",
   "toc_cell": false,
   "toc_position": {},
   "toc_section_display": true,
   "toc_window_display": false
  }
 },
 "nbformat": 4,
 "nbformat_minor": 2
}
